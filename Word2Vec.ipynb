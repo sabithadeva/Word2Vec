{
  "nbformat": 4,
  "nbformat_minor": 0,
  "metadata": {
    "colab": {
      "provenance": []
    },
    "kernelspec": {
      "name": "python3",
      "display_name": "Python 3"
    },
    "language_info": {
      "name": "python"
    },
    "accelerator": "GPU",
    "gpuClass": "standard"
  },
  "cells": [
    {
      "cell_type": "code",
      "source": [
        "import torch\n",
        "import torch.nn as nn\n",
        "from torch.nn.functional import relu, log_softmax\n",
        "import torch.optim as optim\n",
        "from sklearn.manifold import TSNE\n",
        "import plotly.express as px\n",
        "import pandas as pd\n",
        "from nltk.corpus import stopwords\n",
        "from nltk.tokenize import word_tokenize\n",
        "from nltk.tokenize.treebank import TreebankWordDetokenizer\n",
        "import string \n",
        "from sklearn import feature_extraction\n",
        "import nltk\n",
        "from torch.utils.data import DataLoader\n",
        "from torch.utils.data import TensorDataset\n",
        "import numpy as np\n",
        "import matplotlib.pyplot as plt\n",
        "from scipy.spatial.distance import cdist\n",
        "\n",
        "nltk.download('stopwords')\n",
        "nltk.download('punkt')\n",
        "\n",
        "torch.manual_seed(1)"
      ],
      "metadata": {
        "colab": {
          "base_uri": "https://localhost:8080/"
        },
        "id": "OtcAu-SRUudz",
        "outputId": "8ad78346-0813-4dc0-b674-1b54f0929c2d"
      },
      "execution_count": null,
      "outputs": [
        {
          "output_type": "stream",
          "name": "stderr",
          "text": [
            "[nltk_data] Downloading package stopwords to /root/nltk_data...\n",
            "[nltk_data]   Package stopwords is already up-to-date!\n",
            "[nltk_data] Downloading package punkt to /root/nltk_data...\n",
            "[nltk_data]   Package punkt is already up-to-date!\n"
          ]
        },
        {
          "output_type": "execute_result",
          "data": {
            "text/plain": [
              "<torch._C.Generator at 0x7f50883f0490>"
            ]
          },
          "metadata": {},
          "execution_count": 1
        }
      ]
    },
    {
      "cell_type": "code",
      "source": [
        "# Download and import the dataset from here https://drive.google.com/file/d/1o7TcsfaUk4ULpIAuQNCHVqLLR7CwXtpp/view?usp=sharing\n",
        "with open('harry_potter.txt', 'r') as file:\n",
        "    data = file.read().replace('\\n', ' ')\n",
        "\n",
        "df = pd.DataFrame({'text': [data]})\n",
        "display(df)"
      ],
      "metadata": {
        "colab": {
          "base_uri": "https://localhost:8080/",
          "height": 81
        },
        "id": "CV6aYh05gJ2B",
        "outputId": "24e73a86-59b6-4894-edf3-054ab7b155f1"
      },
      "execution_count": null,
      "outputs": [
        {
          "output_type": "display_data",
          "data": {
            "text/plain": [
              "                                                text\n",
              "0  THE BOY WHO LIVED  Mr. and Mrs. Dursley, of nu..."
            ],
            "text/html": [
              "\n",
              "  <div id=\"df-20be46ce-017e-4596-a761-9417813f775b\">\n",
              "    <div class=\"colab-df-container\">\n",
              "      <div>\n",
              "<style scoped>\n",
              "    .dataframe tbody tr th:only-of-type {\n",
              "        vertical-align: middle;\n",
              "    }\n",
              "\n",
              "    .dataframe tbody tr th {\n",
              "        vertical-align: top;\n",
              "    }\n",
              "\n",
              "    .dataframe thead th {\n",
              "        text-align: right;\n",
              "    }\n",
              "</style>\n",
              "<table border=\"1\" class=\"dataframe\">\n",
              "  <thead>\n",
              "    <tr style=\"text-align: right;\">\n",
              "      <th></th>\n",
              "      <th>text</th>\n",
              "    </tr>\n",
              "  </thead>\n",
              "  <tbody>\n",
              "    <tr>\n",
              "      <th>0</th>\n",
              "      <td>THE BOY WHO LIVED  Mr. and Mrs. Dursley, of nu...</td>\n",
              "    </tr>\n",
              "  </tbody>\n",
              "</table>\n",
              "</div>\n",
              "      <button class=\"colab-df-convert\" onclick=\"convertToInteractive('df-20be46ce-017e-4596-a761-9417813f775b')\"\n",
              "              title=\"Convert this dataframe to an interactive table.\"\n",
              "              style=\"display:none;\">\n",
              "        \n",
              "  <svg xmlns=\"http://www.w3.org/2000/svg\" height=\"24px\"viewBox=\"0 0 24 24\"\n",
              "       width=\"24px\">\n",
              "    <path d=\"M0 0h24v24H0V0z\" fill=\"none\"/>\n",
              "    <path d=\"M18.56 5.44l.94 2.06.94-2.06 2.06-.94-2.06-.94-.94-2.06-.94 2.06-2.06.94zm-11 1L8.5 8.5l.94-2.06 2.06-.94-2.06-.94L8.5 2.5l-.94 2.06-2.06.94zm10 10l.94 2.06.94-2.06 2.06-.94-2.06-.94-.94-2.06-.94 2.06-2.06.94z\"/><path d=\"M17.41 7.96l-1.37-1.37c-.4-.4-.92-.59-1.43-.59-.52 0-1.04.2-1.43.59L10.3 9.45l-7.72 7.72c-.78.78-.78 2.05 0 2.83L4 21.41c.39.39.9.59 1.41.59.51 0 1.02-.2 1.41-.59l7.78-7.78 2.81-2.81c.8-.78.8-2.07 0-2.86zM5.41 20L4 18.59l7.72-7.72 1.47 1.35L5.41 20z\"/>\n",
              "  </svg>\n",
              "      </button>\n",
              "      \n",
              "  <style>\n",
              "    .colab-df-container {\n",
              "      display:flex;\n",
              "      flex-wrap:wrap;\n",
              "      gap: 12px;\n",
              "    }\n",
              "\n",
              "    .colab-df-convert {\n",
              "      background-color: #E8F0FE;\n",
              "      border: none;\n",
              "      border-radius: 50%;\n",
              "      cursor: pointer;\n",
              "      display: none;\n",
              "      fill: #1967D2;\n",
              "      height: 32px;\n",
              "      padding: 0 0 0 0;\n",
              "      width: 32px;\n",
              "    }\n",
              "\n",
              "    .colab-df-convert:hover {\n",
              "      background-color: #E2EBFA;\n",
              "      box-shadow: 0px 1px 2px rgba(60, 64, 67, 0.3), 0px 1px 3px 1px rgba(60, 64, 67, 0.15);\n",
              "      fill: #174EA6;\n",
              "    }\n",
              "\n",
              "    [theme=dark] .colab-df-convert {\n",
              "      background-color: #3B4455;\n",
              "      fill: #D2E3FC;\n",
              "    }\n",
              "\n",
              "    [theme=dark] .colab-df-convert:hover {\n",
              "      background-color: #434B5C;\n",
              "      box-shadow: 0px 1px 3px 1px rgba(0, 0, 0, 0.15);\n",
              "      filter: drop-shadow(0px 1px 2px rgba(0, 0, 0, 0.3));\n",
              "      fill: #FFFFFF;\n",
              "    }\n",
              "  </style>\n",
              "\n",
              "      <script>\n",
              "        const buttonEl =\n",
              "          document.querySelector('#df-20be46ce-017e-4596-a761-9417813f775b button.colab-df-convert');\n",
              "        buttonEl.style.display =\n",
              "          google.colab.kernel.accessAllowed ? 'block' : 'none';\n",
              "\n",
              "        async function convertToInteractive(key) {\n",
              "          const element = document.querySelector('#df-20be46ce-017e-4596-a761-9417813f775b');\n",
              "          const dataTable =\n",
              "            await google.colab.kernel.invokeFunction('convertToInteractive',\n",
              "                                                     [key], {});\n",
              "          if (!dataTable) return;\n",
              "\n",
              "          const docLinkHtml = 'Like what you see? Visit the ' +\n",
              "            '<a target=\"_blank\" href=https://colab.research.google.com/notebooks/data_table.ipynb>data table notebook</a>'\n",
              "            + ' to learn more about interactive tables.';\n",
              "          element.innerHTML = '';\n",
              "          dataTable['output_type'] = 'display_data';\n",
              "          await google.colab.output.renderOutput(dataTable, element);\n",
              "          const docLink = document.createElement('div');\n",
              "          docLink.innerHTML = docLinkHtml;\n",
              "          element.appendChild(docLink);\n",
              "        }\n",
              "      </script>\n",
              "    </div>\n",
              "  </div>\n",
              "  "
            ]
          },
          "metadata": {}
        }
      ]
    },
    {
      "cell_type": "code",
      "source": [
        "cv = feature_extraction.text.CountVectorizer()\n",
        "\n",
        "def simplify_text(df):\n",
        "    def preprocess_text(text):\n",
        "        if not hasattr(preprocess_text, \"punctuation_table\"):\n",
        "            preprocess_text.punctuation_table=str.maketrans('','',string.punctuation)\n",
        "\n",
        "        if not hasattr(preprocess_text, \"stop_words\"):\n",
        "            preprocess_text.stop_words = set(stopwords.words(\"english\"))\n",
        "        \n",
        "        text = text.translate(preprocess_text.punctuation_table)\n",
        "        word_tokens = word_tokenize(text)\n",
        "        \n",
        "        filtered_text = []\n",
        "        for w in word_tokens:\n",
        "            if w not in preprocess_text.stop_words:\n",
        "                filtered_text.append(w.lower())\n",
        "                \n",
        "        return TreebankWordDetokenizer().detokenize(filtered_text)\n",
        "\n",
        "    processed_text = [preprocess_text(text) for text in df[\"text\"]]\n",
        "    df['processed'] = processed_text\n",
        "\n",
        "    return df\n",
        "\n",
        "def bag_of_words(df):\n",
        "    context = []\n",
        "    label = []\n",
        "\n",
        "    def expand_text(text):\n",
        "        words = text.split()\n",
        "\n",
        "        if len(words) < 5:\n",
        "            return None\n",
        "\n",
        "        for idx in range(2, len(words) - 2):\n",
        "            context.append(' '.join([words[idx-2], words[idx-1], words[idx+1], words[idx+2]]))\n",
        "            label.append(words[idx])\n",
        "\n",
        "    for text in df['processed']:\n",
        "        expand_text(text)\n",
        "    \n",
        "    bag_of_words_df = pd.DataFrame({\n",
        "        'context': context,\n",
        "        'label': label,\n",
        "    })\n",
        "\n",
        "    return bag_of_words_df\n",
        "\n",
        "def vectorize(df):\n",
        "    # Learn vocabulary\n",
        "    cv.fit(df['context'] + ' ' + df['label'])\n",
        "\n",
        "    context = torch.tensor(cv.transform(df['context']).toarray()).to(torch.float)\n",
        "    label = torch.tensor(cv.transform(df['label']).toarray()).to(torch.float)\n",
        "    \n",
        "    dataset = TensorDataset(context, label)\n",
        "    return dataset"
      ],
      "metadata": {
        "id": "XXLFbP5EpQca"
      },
      "execution_count": null,
      "outputs": []
    },
    {
      "cell_type": "code",
      "source": [
        "df = simplify_text(df)\n",
        "display(df)"
      ],
      "metadata": {
        "colab": {
          "base_uri": "https://localhost:8080/",
          "height": 81
        },
        "id": "6gdKIvC2SR3C",
        "outputId": "9b7a3fb8-6caa-44e7-bac1-13b1ca44db7a"
      },
      "execution_count": null,
      "outputs": [
        {
          "output_type": "display_data",
          "data": {
            "text/plain": [
              "                                                text  \\\n",
              "0  THE BOY WHO LIVED  Mr. and Mrs. Dursley, of nu...   \n",
              "\n",
              "                                           processed  \n",
              "0  the boy who lived mr mrs dursley number four p...  "
            ],
            "text/html": [
              "\n",
              "  <div id=\"df-0c167948-c853-47fe-9486-0df30171fa66\">\n",
              "    <div class=\"colab-df-container\">\n",
              "      <div>\n",
              "<style scoped>\n",
              "    .dataframe tbody tr th:only-of-type {\n",
              "        vertical-align: middle;\n",
              "    }\n",
              "\n",
              "    .dataframe tbody tr th {\n",
              "        vertical-align: top;\n",
              "    }\n",
              "\n",
              "    .dataframe thead th {\n",
              "        text-align: right;\n",
              "    }\n",
              "</style>\n",
              "<table border=\"1\" class=\"dataframe\">\n",
              "  <thead>\n",
              "    <tr style=\"text-align: right;\">\n",
              "      <th></th>\n",
              "      <th>text</th>\n",
              "      <th>processed</th>\n",
              "    </tr>\n",
              "  </thead>\n",
              "  <tbody>\n",
              "    <tr>\n",
              "      <th>0</th>\n",
              "      <td>THE BOY WHO LIVED  Mr. and Mrs. Dursley, of nu...</td>\n",
              "      <td>the boy who lived mr mrs dursley number four p...</td>\n",
              "    </tr>\n",
              "  </tbody>\n",
              "</table>\n",
              "</div>\n",
              "      <button class=\"colab-df-convert\" onclick=\"convertToInteractive('df-0c167948-c853-47fe-9486-0df30171fa66')\"\n",
              "              title=\"Convert this dataframe to an interactive table.\"\n",
              "              style=\"display:none;\">\n",
              "        \n",
              "  <svg xmlns=\"http://www.w3.org/2000/svg\" height=\"24px\"viewBox=\"0 0 24 24\"\n",
              "       width=\"24px\">\n",
              "    <path d=\"M0 0h24v24H0V0z\" fill=\"none\"/>\n",
              "    <path d=\"M18.56 5.44l.94 2.06.94-2.06 2.06-.94-2.06-.94-.94-2.06-.94 2.06-2.06.94zm-11 1L8.5 8.5l.94-2.06 2.06-.94-2.06-.94L8.5 2.5l-.94 2.06-2.06.94zm10 10l.94 2.06.94-2.06 2.06-.94-2.06-.94-.94-2.06-.94 2.06-2.06.94z\"/><path d=\"M17.41 7.96l-1.37-1.37c-.4-.4-.92-.59-1.43-.59-.52 0-1.04.2-1.43.59L10.3 9.45l-7.72 7.72c-.78.78-.78 2.05 0 2.83L4 21.41c.39.39.9.59 1.41.59.51 0 1.02-.2 1.41-.59l7.78-7.78 2.81-2.81c.8-.78.8-2.07 0-2.86zM5.41 20L4 18.59l7.72-7.72 1.47 1.35L5.41 20z\"/>\n",
              "  </svg>\n",
              "      </button>\n",
              "      \n",
              "  <style>\n",
              "    .colab-df-container {\n",
              "      display:flex;\n",
              "      flex-wrap:wrap;\n",
              "      gap: 12px;\n",
              "    }\n",
              "\n",
              "    .colab-df-convert {\n",
              "      background-color: #E8F0FE;\n",
              "      border: none;\n",
              "      border-radius: 50%;\n",
              "      cursor: pointer;\n",
              "      display: none;\n",
              "      fill: #1967D2;\n",
              "      height: 32px;\n",
              "      padding: 0 0 0 0;\n",
              "      width: 32px;\n",
              "    }\n",
              "\n",
              "    .colab-df-convert:hover {\n",
              "      background-color: #E2EBFA;\n",
              "      box-shadow: 0px 1px 2px rgba(60, 64, 67, 0.3), 0px 1px 3px 1px rgba(60, 64, 67, 0.15);\n",
              "      fill: #174EA6;\n",
              "    }\n",
              "\n",
              "    [theme=dark] .colab-df-convert {\n",
              "      background-color: #3B4455;\n",
              "      fill: #D2E3FC;\n",
              "    }\n",
              "\n",
              "    [theme=dark] .colab-df-convert:hover {\n",
              "      background-color: #434B5C;\n",
              "      box-shadow: 0px 1px 3px 1px rgba(0, 0, 0, 0.15);\n",
              "      filter: drop-shadow(0px 1px 2px rgba(0, 0, 0, 0.3));\n",
              "      fill: #FFFFFF;\n",
              "    }\n",
              "  </style>\n",
              "\n",
              "      <script>\n",
              "        const buttonEl =\n",
              "          document.querySelector('#df-0c167948-c853-47fe-9486-0df30171fa66 button.colab-df-convert');\n",
              "        buttonEl.style.display =\n",
              "          google.colab.kernel.accessAllowed ? 'block' : 'none';\n",
              "\n",
              "        async function convertToInteractive(key) {\n",
              "          const element = document.querySelector('#df-0c167948-c853-47fe-9486-0df30171fa66');\n",
              "          const dataTable =\n",
              "            await google.colab.kernel.invokeFunction('convertToInteractive',\n",
              "                                                     [key], {});\n",
              "          if (!dataTable) return;\n",
              "\n",
              "          const docLinkHtml = 'Like what you see? Visit the ' +\n",
              "            '<a target=\"_blank\" href=https://colab.research.google.com/notebooks/data_table.ipynb>data table notebook</a>'\n",
              "            + ' to learn more about interactive tables.';\n",
              "          element.innerHTML = '';\n",
              "          dataTable['output_type'] = 'display_data';\n",
              "          await google.colab.output.renderOutput(dataTable, element);\n",
              "          const docLink = document.createElement('div');\n",
              "          docLink.innerHTML = docLinkHtml;\n",
              "          element.appendChild(docLink);\n",
              "        }\n",
              "      </script>\n",
              "    </div>\n",
              "  </div>\n",
              "  "
            ]
          },
          "metadata": {}
        }
      ]
    },
    {
      "cell_type": "code",
      "source": [
        "bag_of_words_df = bag_of_words(df)\n",
        "display(bag_of_words_df)"
      ],
      "metadata": {
        "colab": {
          "base_uri": "https://localhost:8080/",
          "height": 424
        },
        "id": "Rcb5_goxdYpx",
        "outputId": "4593a6af-2182-44d6-c77c-84ceabd166f4"
      },
      "execution_count": null,
      "outputs": [
        {
          "output_type": "display_data",
          "data": {
            "text/plain": [
              "                       context    label\n",
              "0             the boy lived mr      who\n",
              "1               boy who mr mrs    lived\n",
              "2        who lived mrs dursley       mr\n",
              "3      lived mr dursley number      mrs\n",
              "4           mr mrs number four  dursley\n",
              "...                        ...      ...\n",
              "53835         home i going lot        ’\n",
              "53836              i ’ lot fun    going\n",
              "53837       ’ going fun dudley      lot\n",
              "53838  going lot dudley summer      fun\n",
              "53839         lot fun summer ”   dudley\n",
              "\n",
              "[53840 rows x 2 columns]"
            ],
            "text/html": [
              "\n",
              "  <div id=\"df-1032fd39-be4f-4b47-b085-5d8deb20063b\">\n",
              "    <div class=\"colab-df-container\">\n",
              "      <div>\n",
              "<style scoped>\n",
              "    .dataframe tbody tr th:only-of-type {\n",
              "        vertical-align: middle;\n",
              "    }\n",
              "\n",
              "    .dataframe tbody tr th {\n",
              "        vertical-align: top;\n",
              "    }\n",
              "\n",
              "    .dataframe thead th {\n",
              "        text-align: right;\n",
              "    }\n",
              "</style>\n",
              "<table border=\"1\" class=\"dataframe\">\n",
              "  <thead>\n",
              "    <tr style=\"text-align: right;\">\n",
              "      <th></th>\n",
              "      <th>context</th>\n",
              "      <th>label</th>\n",
              "    </tr>\n",
              "  </thead>\n",
              "  <tbody>\n",
              "    <tr>\n",
              "      <th>0</th>\n",
              "      <td>the boy lived mr</td>\n",
              "      <td>who</td>\n",
              "    </tr>\n",
              "    <tr>\n",
              "      <th>1</th>\n",
              "      <td>boy who mr mrs</td>\n",
              "      <td>lived</td>\n",
              "    </tr>\n",
              "    <tr>\n",
              "      <th>2</th>\n",
              "      <td>who lived mrs dursley</td>\n",
              "      <td>mr</td>\n",
              "    </tr>\n",
              "    <tr>\n",
              "      <th>3</th>\n",
              "      <td>lived mr dursley number</td>\n",
              "      <td>mrs</td>\n",
              "    </tr>\n",
              "    <tr>\n",
              "      <th>4</th>\n",
              "      <td>mr mrs number four</td>\n",
              "      <td>dursley</td>\n",
              "    </tr>\n",
              "    <tr>\n",
              "      <th>...</th>\n",
              "      <td>...</td>\n",
              "      <td>...</td>\n",
              "    </tr>\n",
              "    <tr>\n",
              "      <th>53835</th>\n",
              "      <td>home i going lot</td>\n",
              "      <td>’</td>\n",
              "    </tr>\n",
              "    <tr>\n",
              "      <th>53836</th>\n",
              "      <td>i ’ lot fun</td>\n",
              "      <td>going</td>\n",
              "    </tr>\n",
              "    <tr>\n",
              "      <th>53837</th>\n",
              "      <td>’ going fun dudley</td>\n",
              "      <td>lot</td>\n",
              "    </tr>\n",
              "    <tr>\n",
              "      <th>53838</th>\n",
              "      <td>going lot dudley summer</td>\n",
              "      <td>fun</td>\n",
              "    </tr>\n",
              "    <tr>\n",
              "      <th>53839</th>\n",
              "      <td>lot fun summer ”</td>\n",
              "      <td>dudley</td>\n",
              "    </tr>\n",
              "  </tbody>\n",
              "</table>\n",
              "<p>53840 rows × 2 columns</p>\n",
              "</div>\n",
              "      <button class=\"colab-df-convert\" onclick=\"convertToInteractive('df-1032fd39-be4f-4b47-b085-5d8deb20063b')\"\n",
              "              title=\"Convert this dataframe to an interactive table.\"\n",
              "              style=\"display:none;\">\n",
              "        \n",
              "  <svg xmlns=\"http://www.w3.org/2000/svg\" height=\"24px\"viewBox=\"0 0 24 24\"\n",
              "       width=\"24px\">\n",
              "    <path d=\"M0 0h24v24H0V0z\" fill=\"none\"/>\n",
              "    <path d=\"M18.56 5.44l.94 2.06.94-2.06 2.06-.94-2.06-.94-.94-2.06-.94 2.06-2.06.94zm-11 1L8.5 8.5l.94-2.06 2.06-.94-2.06-.94L8.5 2.5l-.94 2.06-2.06.94zm10 10l.94 2.06.94-2.06 2.06-.94-2.06-.94-.94-2.06-.94 2.06-2.06.94z\"/><path d=\"M17.41 7.96l-1.37-1.37c-.4-.4-.92-.59-1.43-.59-.52 0-1.04.2-1.43.59L10.3 9.45l-7.72 7.72c-.78.78-.78 2.05 0 2.83L4 21.41c.39.39.9.59 1.41.59.51 0 1.02-.2 1.41-.59l7.78-7.78 2.81-2.81c.8-.78.8-2.07 0-2.86zM5.41 20L4 18.59l7.72-7.72 1.47 1.35L5.41 20z\"/>\n",
              "  </svg>\n",
              "      </button>\n",
              "      \n",
              "  <style>\n",
              "    .colab-df-container {\n",
              "      display:flex;\n",
              "      flex-wrap:wrap;\n",
              "      gap: 12px;\n",
              "    }\n",
              "\n",
              "    .colab-df-convert {\n",
              "      background-color: #E8F0FE;\n",
              "      border: none;\n",
              "      border-radius: 50%;\n",
              "      cursor: pointer;\n",
              "      display: none;\n",
              "      fill: #1967D2;\n",
              "      height: 32px;\n",
              "      padding: 0 0 0 0;\n",
              "      width: 32px;\n",
              "    }\n",
              "\n",
              "    .colab-df-convert:hover {\n",
              "      background-color: #E2EBFA;\n",
              "      box-shadow: 0px 1px 2px rgba(60, 64, 67, 0.3), 0px 1px 3px 1px rgba(60, 64, 67, 0.15);\n",
              "      fill: #174EA6;\n",
              "    }\n",
              "\n",
              "    [theme=dark] .colab-df-convert {\n",
              "      background-color: #3B4455;\n",
              "      fill: #D2E3FC;\n",
              "    }\n",
              "\n",
              "    [theme=dark] .colab-df-convert:hover {\n",
              "      background-color: #434B5C;\n",
              "      box-shadow: 0px 1px 3px 1px rgba(0, 0, 0, 0.15);\n",
              "      filter: drop-shadow(0px 1px 2px rgba(0, 0, 0, 0.3));\n",
              "      fill: #FFFFFF;\n",
              "    }\n",
              "  </style>\n",
              "\n",
              "      <script>\n",
              "        const buttonEl =\n",
              "          document.querySelector('#df-1032fd39-be4f-4b47-b085-5d8deb20063b button.colab-df-convert');\n",
              "        buttonEl.style.display =\n",
              "          google.colab.kernel.accessAllowed ? 'block' : 'none';\n",
              "\n",
              "        async function convertToInteractive(key) {\n",
              "          const element = document.querySelector('#df-1032fd39-be4f-4b47-b085-5d8deb20063b');\n",
              "          const dataTable =\n",
              "            await google.colab.kernel.invokeFunction('convertToInteractive',\n",
              "                                                     [key], {});\n",
              "          if (!dataTable) return;\n",
              "\n",
              "          const docLinkHtml = 'Like what you see? Visit the ' +\n",
              "            '<a target=\"_blank\" href=https://colab.research.google.com/notebooks/data_table.ipynb>data table notebook</a>'\n",
              "            + ' to learn more about interactive tables.';\n",
              "          element.innerHTML = '';\n",
              "          dataTable['output_type'] = 'display_data';\n",
              "          await google.colab.output.renderOutput(dataTable, element);\n",
              "          const docLink = document.createElement('div');\n",
              "          docLink.innerHTML = docLinkHtml;\n",
              "          element.appendChild(docLink);\n",
              "        }\n",
              "      </script>\n",
              "    </div>\n",
              "  </div>\n",
              "  "
            ]
          },
          "metadata": {}
        }
      ]
    },
    {
      "cell_type": "code",
      "source": [
        "dataset = vectorize(bag_of_words_df)"
      ],
      "metadata": {
        "id": "hcOSjUnwVk3p"
      },
      "execution_count": null,
      "outputs": []
    },
    {
      "cell_type": "code",
      "execution_count": null,
      "metadata": {
        "id": "mRYTqtUOUcaM"
      },
      "outputs": [],
      "source": [
        "EMBEDDING_DIM = 2\n",
        "VOCAB_SIZE = len(dataset[0][0])\n",
        "\n",
        "class Model(nn.Module):\n",
        "    def __init__(self, embedding_dim, vocab_size):\n",
        "        super().__init__()\n",
        "\n",
        "        self.linear1 = nn.Linear(vocab_size, embedding_dim)\n",
        "        self.relu1 = nn.ReLU()\n",
        "        self.linear2 = nn.Linear(embedding_dim, vocab_size)\n",
        "        self.softmax = nn.Softmax(dim=1)\n",
        "\n",
        "    def forward(self, input):\n",
        "        out = input\n",
        "\n",
        "        out = self.linear1(out)\n",
        "        out = self.relu1(out)\n",
        "        out = self.linear2(out)\n",
        "        # Use softmax to get value from 0-1. Expected that only one dimension is close to 1 as label is a single word\n",
        "        out = self.softmax(out)\n",
        "        \n",
        "        return out"
      ]
    },
    {
      "cell_type": "code",
      "source": [
        "model = Model(EMBEDDING_DIM, VOCAB_SIZE)"
      ],
      "metadata": {
        "id": "mACCh0UYz2sS"
      },
      "execution_count": null,
      "outputs": []
    },
    {
      "cell_type": "code",
      "source": [
        "dataloader = DataLoader(dataset, batch_size=1)"
      ],
      "metadata": {
        "id": "iSVy_jMPhQwX"
      },
      "execution_count": null,
      "outputs": []
    },
    {
      "cell_type": "code",
      "source": [
        "print(model)"
      ],
      "metadata": {
        "colab": {
          "base_uri": "https://localhost:8080/"
        },
        "id": "RgoBF8VIOI_c",
        "outputId": "4fa92d41-87f8-44fd-b3c3-70f1a4c64a40"
      },
      "execution_count": null,
      "outputs": [
        {
          "output_type": "stream",
          "name": "stdout",
          "text": [
            "Model(\n",
            "  (linear1): Linear(in_features=5812, out_features=2, bias=True)\n",
            "  (relu1): ReLU()\n",
            "  (linear2): Linear(in_features=2, out_features=5812, bias=True)\n",
            "  (softmax): Softmax(dim=1)\n",
            ")\n"
          ]
        }
      ]
    },
    {
      "cell_type": "code",
      "source": [
        "log_loss = nn.NLLLoss()\n",
        "optimizer = torch.optim.SGD(model.parameters(), lr=1e-3)\n",
        "\n",
        "iteration_number = 1\n",
        "loss_list = []\n",
        "\n",
        "for iteration in range(iteration_number):\n",
        "    for batch_idx, (features, label) in enumerate(dataloader):\n",
        "        optimizer.zero_grad()\n",
        "\n",
        "        # Shape of features is batch_size * feature_vector\n",
        "        # Shape of label is batch_size * label_vector\n",
        "        # cross entropy loss expects output and label to be one value rather than a one hot vector\n",
        "        # so we use argmax to get the dimension of the '1' label. \n",
        "        output = model(features)\n",
        "        \n",
        "        label = torch.argmax(label, dim=1)\n",
        "        loss = log_loss(output, label)\n",
        "        \n",
        "        loss.backward()\n",
        "        optimizer.step()\n",
        "\n",
        "    loss_list.append(loss.data)\n",
        "    print('epoch {}, loss {}'.format(iteration, loss.data))\n",
        "\n",
        "plt.plot(range(iteration_number),loss_list)\n",
        "plt.xlabel(\"Number of Iterations\")\n",
        "plt.ylabel(\"Loss\")\n",
        "plt.show()"
      ],
      "metadata": {
        "colab": {
          "base_uri": "https://localhost:8080/",
          "height": 298
        },
        "id": "RKxoEHAtZo8W",
        "outputId": "56f4f187-3437-471d-9b6a-e76dd3b129c5"
      },
      "execution_count": null,
      "outputs": [
        {
          "output_type": "stream",
          "name": "stdout",
          "text": [
            "epoch 0, loss -9.511959069641307e-05\n"
          ]
        },
        {
          "output_type": "display_data",
          "data": {
            "text/plain": [
              "<Figure size 432x288 with 1 Axes>"
            ],
            "image/png": "[encoded data removed]"
          },
          "metadata": {
            "needs_background": "light"
          }
        }
      ]
    },
    {
      "cell_type": "code",
      "source": [
        "activation = {}\n",
        "def get_activation(name):\n",
        "    activation[name] = []\n",
        "    def hook(model, input, output):\n",
        "        activation[name].append(output.detach().numpy())\n",
        "    return hook\n",
        "\n",
        "model.linear1.register_forward_hook(get_activation('word_embedding'))"
      ],
      "metadata": {
        "id": "C6qn7t5SLxBS",
        "colab": {
          "base_uri": "https://localhost:8080/"
        },
        "outputId": "625288ba-79fd-4541-f1ea-40b05d9b3b69"
      },
      "execution_count": null,
      "outputs": [
        {
          "output_type": "execute_result",
          "data": {
            "text/plain": [
              "<torch.utils.hooks.RemovableHandle at 0x7f4ffd51b700>"
            ]
          },
          "metadata": {},
          "execution_count": 12
        }
      ]
    },
    {
      "cell_type": "code",
      "source": [
        "example_words = pd.DataFrame({\n",
        "    'input': ['king', 'queen', 'husband', 'wife', 'man', 'woman']\n",
        "})['input']\n",
        "example_words_ohe = torch.tensor(cv.transform(example_words).toarray()).to(torch.float)\n",
        "example_dataset = TensorDataset(example_words_ohe)\n",
        "example_dataloader = DataLoader(example_dataset, batch_size=1)\n",
        "\n",
        "for batch_idx, (example, ) in enumerate(example_dataloader):\n",
        "    output = model(example)"
      ],
      "metadata": {
        "id": "CAcRNSjBCovP"
      },
      "execution_count": null,
      "outputs": []
    },
    {
      "cell_type": "code",
      "source": [
        "embeddings = activation['word_embedding']\n",
        "\n",
        "fig = px.scatter(\n",
        "    np.array(embeddings).reshape(len(embeddings), 2), x=0, y=1,\n",
        "    text=example_words,\n",
        ")\n",
        "fig.show()"
      ],
      "metadata": {
        "colab": {
          "base_uri": "https://localhost:8080/",
          "height": 542
        },
        "id": "Ht5I9xp7yzvJ",
        "outputId": "db5abe6b-be06-40a9-e950-2d35b6e3b604"
      },
      "execution_count": null,
      "outputs": [
        {
          "output_type": "display_data",
          "data": {
            "text/html": [
              "<html>\n",
              "<head><meta charset=\"utf-8\" /></head>\n",
              "<body>\n",
              "    <div>            <script src=\"https://cdnjs.cloudflare.com/ajax/libs/mathjax/2.7.5/MathJax.js?config=TeX-AMS-MML_SVG\"></script><script type=\"text/javascript\">if (window.MathJax) {MathJax.Hub.Config({SVG: {font: \"STIX-Web\"}});}</script>                <script type=\"text/javascript\">window.PlotlyConfig = {MathJaxConfig: 'local'};</script>\n",
              "        <script src=\"https://cdn.plot.ly/plotly-2.8.3.min.js\"></script>                <div id=\"270fe8cf-ec54-468a-8897-4d129018a532\" class=\"plotly-graph-div\" style=\"height:525px; width:100%;\"></div>            <script type=\"text/javascript\">                                    window.PLOTLYENV=window.PLOTLYENV || {};                                    if (document.getElementById(\"270fe8cf-ec54-468a-8897-4d129018a532\")) {                    Plotly.newPlot(                        \"270fe8cf-ec54-468a-8897-4d129018a532\",                        [{\"hovertemplate\":\"0=%{x}<br>1=%{y}<br>text=%{text}<extra></extra>\",\"legendgroup\":\"\",\"marker\":{\"color\":\"#636efa\",\"symbol\":\"circle\"},\"mode\":\"markers+text\",\"name\":\"\",\"orientation\":\"v\",\"showlegend\":false,\"text\":[\"king\",\"queen\",\"husband\",\"wife\",\"man\",\"woman\"],\"x\":[0.0016853227280080318,0.0011595701798796654,-0.010583281517028809,-0.012564446777105331,-0.005471921060234308,-0.006715201772749424],\"xaxis\":\"x\",\"y\":[-0.00020975386723876,-0.00331433629617095,0.004021672531962395,0.0012246596161276102,0.00843520276248455,0.003874633926898241],\"yaxis\":\"y\",\"type\":\"scatter\"}],                        {\"template\":{\"data\":{\"bar\":[{\"error_x\":{\"color\":\"#2a3f5f\"},\"error_y\":{\"color\":\"#2a3f5f\"},\"marker\":{\"line\":{\"color\":\"#E5ECF6\",\"width\":0.5},\"pattern\":{\"fillmode\":\"overlay\",\"size\":10,\"solidity\":0.2}},\"type\":\"bar\"}],\"barpolar\":[{\"marker\":{\"line\":{\"color\":\"#E5ECF6\",\"width\":0.5},\"pattern\":{\"fillmode\":\"overlay\",\"size\":10,\"solidity\":0.2}},\"type\":\"barpolar\"}],\"carpet\":[{\"aaxis\":{\"endlinecolor\":\"#2a3f5f\",\"gridcolor\":\"white\",\"linecolor\":\"white\",\"minorgridcolor\":\"white\",\"startlinecolor\":\"#2a3f5f\"},\"baxis\":{\"endlinecolor\":\"#2a3f5f\",\"gridcolor\":\"white\",\"linecolor\":\"white\",\"minorgridcolor\":\"white\",\"startlinecolor\":\"#2a3f5f\"},\"type\":\"carpet\"}],\"choropleth\":[{\"colorbar\":{\"outlinewidth\":0,\"ticks\":\"\"},\"type\":\"choropleth\"}],\"contour\":[{\"colorbar\":{\"outlinewidth\":0,\"ticks\":\"\"},\"colorscale\":[[0.0,\"#0d0887\"],[0.1111111111111111,\"#46039f\"],[0.2222222222222222,\"#7201a8\"],[0.3333333333333333,\"#9c179e\"],[0.4444444444444444,\"#bd3786\"],[0.5555555555555556,\"#d8576b\"],[0.6666666666666666,\"#ed7953\"],[0.7777777777777778,\"#fb9f3a\"],[0.8888888888888888,\"#fdca26\"],[1.0,\"#f0f921\"]],\"type\":\"contour\"}],\"contourcarpet\":[{\"colorbar\":{\"outlinewidth\":0,\"ticks\":\"\"},\"type\":\"contourcarpet\"}],\"heatmap\":[{\"colorbar\":{\"outlinewidth\":0,\"ticks\":\"\"},\"colorscale\":[[0.0,\"#0d0887\"],[0.1111111111111111,\"#46039f\"],[0.2222222222222222,\"#7201a8\"],[0.3333333333333333,\"#9c179e\"],[0.4444444444444444,\"#bd3786\"],[0.5555555555555556,\"#d8576b\"],[0.6666666666666666,\"#ed7953\"],[0.7777777777777778,\"#fb9f3a\"],[0.8888888888888888,\"#fdca26\"],[1.0,\"#f0f921\"]],\"type\":\"heatmap\"}],\"heatmapgl\":[{\"colorbar\":{\"outlinewidth\":0,\"ticks\":\"\"},\"colorscale\":[[0.0,\"#0d0887\"],[0.1111111111111111,\"#46039f\"],[0.2222222222222222,\"#7201a8\"],[0.3333333333333333,\"#9c179e\"],[0.4444444444444444,\"#bd3786\"],[0.5555555555555556,\"#d8576b\"],[0.6666666666666666,\"#ed7953\"],[0.7777777777777778,\"#fb9f3a\"],[0.8888888888888888,\"#fdca26\"],[1.0,\"#f0f921\"]],\"type\":\"heatmapgl\"}],\"histogram\":[{\"marker\":{\"pattern\":{\"fillmode\":\"overlay\",\"size\":10,\"solidity\":0.2}},\"type\":\"histogram\"}],\"histogram2d\":[{\"colorbar\":{\"outlinewidth\":0,\"ticks\":\"\"},\"colorscale\":[[0.0,\"#0d0887\"],[0.1111111111111111,\"#46039f\"],[0.2222222222222222,\"#7201a8\"],[0.3333333333333333,\"#9c179e\"],[0.4444444444444444,\"#bd3786\"],[0.5555555555555556,\"#d8576b\"],[0.6666666666666666,\"#ed7953\"],[0.7777777777777778,\"#fb9f3a\"],[0.8888888888888888,\"#fdca26\"],[1.0,\"#f0f921\"]],\"type\":\"histogram2d\"}],\"histogram2dcontour\":[{\"colorbar\":{\"outlinewidth\":0,\"ticks\":\"\"},\"colorscale\":[[0.0,\"#0d0887\"],[0.1111111111111111,\"#46039f\"],[0.2222222222222222,\"#7201a8\"],[0.3333333333333333,\"#9c179e\"],[0.4444444444444444,\"#bd3786\"],[0.5555555555555556,\"#d8576b\"],[0.6666666666666666,\"#ed7953\"],[0.7777777777777778,\"#fb9f3a\"],[0.8888888888888888,\"#fdca26\"],[1.0,\"#f0f921\"]],\"type\":\"histogram2dcontour\"}],\"mesh3d\":[{\"colorbar\":{\"outlinewidth\":0,\"ticks\":\"\"},\"type\":\"mesh3d\"}],\"parcoords\":[{\"line\":{\"colorbar\":{\"outlinewidth\":0,\"ticks\":\"\"}},\"type\":\"parcoords\"}],\"pie\":[{\"automargin\":true,\"type\":\"pie\"}],\"scatter\":[{\"marker\":{\"colorbar\":{\"outlinewidth\":0,\"ticks\":\"\"}},\"type\":\"scatter\"}],\"scatter3d\":[{\"line\":{\"colorbar\":{\"outlinewidth\":0,\"ticks\":\"\"}},\"marker\":{\"colorbar\":{\"outlinewidth\":0,\"ticks\":\"\"}},\"type\":\"scatter3d\"}],\"scattercarpet\":[{\"marker\":{\"colorbar\":{\"outlinewidth\":0,\"ticks\":\"\"}},\"type\":\"scattercarpet\"}],\"scattergeo\":[{\"marker\":{\"colorbar\":{\"outlinewidth\":0,\"ticks\":\"\"}},\"type\":\"scattergeo\"}],\"scattergl\":[{\"marker\":{\"colorbar\":{\"outlinewidth\":0,\"ticks\":\"\"}},\"type\":\"scattergl\"}],\"scattermapbox\":[{\"marker\":{\"colorbar\":{\"outlinewidth\":0,\"ticks\":\"\"}},\"type\":\"scattermapbox\"}],\"scatterpolar\":[{\"marker\":{\"colorbar\":{\"outlinewidth\":0,\"ticks\":\"\"}},\"type\":\"scatterpolar\"}],\"scatterpolargl\":[{\"marker\":{\"colorbar\":{\"outlinewidth\":0,\"ticks\":\"\"}},\"type\":\"scatterpolargl\"}],\"scatterternary\":[{\"marker\":{\"colorbar\":{\"outlinewidth\":0,\"ticks\":\"\"}},\"type\":\"scatterternary\"}],\"surface\":[{\"colorbar\":{\"outlinewidth\":0,\"ticks\":\"\"},\"colorscale\":[[0.0,\"#0d0887\"],[0.1111111111111111,\"#46039f\"],[0.2222222222222222,\"#7201a8\"],[0.3333333333333333,\"#9c179e\"],[0.4444444444444444,\"#bd3786\"],[0.5555555555555556,\"#d8576b\"],[0.6666666666666666,\"#ed7953\"],[0.7777777777777778,\"#fb9f3a\"],[0.8888888888888888,\"#fdca26\"],[1.0,\"#f0f921\"]],\"type\":\"surface\"}],\"table\":[{\"cells\":{\"fill\":{\"color\":\"#EBF0F8\"},\"line\":{\"color\":\"white\"}},\"header\":{\"fill\":{\"color\":\"#C8D4E3\"},\"line\":{\"color\":\"white\"}},\"type\":\"table\"}]},\"layout\":{\"annotationdefaults\":{\"arrowcolor\":\"#2a3f5f\",\"arrowhead\":0,\"arrowwidth\":1},\"autotypenumbers\":\"strict\",\"coloraxis\":{\"colorbar\":{\"outlinewidth\":0,\"ticks\":\"\"}},\"colorscale\":{\"diverging\":[[0,\"#8e0152\"],[0.1,\"#c51b7d\"],[0.2,\"#de77ae\"],[0.3,\"#f1b6da\"],[0.4,\"#fde0ef\"],[0.5,\"#f7f7f7\"],[0.6,\"#e6f5d0\"],[0.7,\"#b8e186\"],[0.8,\"#7fbc41\"],[0.9,\"#4d9221\"],[1,\"#276419\"]],\"sequential\":[[0.0,\"#0d0887\"],[0.1111111111111111,\"#46039f\"],[0.2222222222222222,\"#7201a8\"],[0.3333333333333333,\"#9c179e\"],[0.4444444444444444,\"#bd3786\"],[0.5555555555555556,\"#d8576b\"],[0.6666666666666666,\"#ed7953\"],[0.7777777777777778,\"#fb9f3a\"],[0.8888888888888888,\"#fdca26\"],[1.0,\"#f0f921\"]],\"sequentialminus\":[[0.0,\"#0d0887\"],[0.1111111111111111,\"#46039f\"],[0.2222222222222222,\"#7201a8\"],[0.3333333333333333,\"#9c179e\"],[0.4444444444444444,\"#bd3786\"],[0.5555555555555556,\"#d8576b\"],[0.6666666666666666,\"#ed7953\"],[0.7777777777777778,\"#fb9f3a\"],[0.8888888888888888,\"#fdca26\"],[1.0,\"#f0f921\"]]},\"colorway\":[\"#636efa\",\"#EF553B\",\"#00cc96\",\"#ab63fa\",\"#FFA15A\",\"#19d3f3\",\"#FF6692\",\"#B6E880\",\"#FF97FF\",\"#FECB52\"],\"font\":{\"color\":\"#2a3f5f\"},\"geo\":{\"bgcolor\":\"white\",\"lakecolor\":\"white\",\"landcolor\":\"#E5ECF6\",\"showlakes\":true,\"showland\":true,\"subunitcolor\":\"white\"},\"hoverlabel\":{\"align\":\"left\"},\"hovermode\":\"closest\",\"mapbox\":{\"style\":\"light\"},\"paper_bgcolor\":\"white\",\"plot_bgcolor\":\"#E5ECF6\",\"polar\":{\"angularaxis\":{\"gridcolor\":\"white\",\"linecolor\":\"white\",\"ticks\":\"\"},\"bgcolor\":\"#E5ECF6\",\"radialaxis\":{\"gridcolor\":\"white\",\"linecolor\":\"white\",\"ticks\":\"\"}},\"scene\":{\"xaxis\":{\"backgroundcolor\":\"#E5ECF6\",\"gridcolor\":\"white\",\"gridwidth\":2,\"linecolor\":\"white\",\"showbackground\":true,\"ticks\":\"\",\"zerolinecolor\":\"white\"},\"yaxis\":{\"backgroundcolor\":\"#E5ECF6\",\"gridcolor\":\"white\",\"gridwidth\":2,\"linecolor\":\"white\",\"showbackground\":true,\"ticks\":\"\",\"zerolinecolor\":\"white\"},\"zaxis\":{\"backgroundcolor\":\"#E5ECF6\",\"gridcolor\":\"white\",\"gridwidth\":2,\"linecolor\":\"white\",\"showbackground\":true,\"ticks\":\"\",\"zerolinecolor\":\"white\"}},\"shapedefaults\":{\"line\":{\"color\":\"#2a3f5f\"}},\"ternary\":{\"aaxis\":{\"gridcolor\":\"white\",\"linecolor\":\"white\",\"ticks\":\"\"},\"baxis\":{\"gridcolor\":\"white\",\"linecolor\":\"white\",\"ticks\":\"\"},\"bgcolor\":\"#E5ECF6\",\"caxis\":{\"gridcolor\":\"white\",\"linecolor\":\"white\",\"ticks\":\"\"}},\"title\":{\"x\":0.05},\"xaxis\":{\"automargin\":true,\"gridcolor\":\"white\",\"linecolor\":\"white\",\"ticks\":\"\",\"title\":{\"standoff\":15},\"zerolinecolor\":\"white\",\"zerolinewidth\":2},\"yaxis\":{\"automargin\":true,\"gridcolor\":\"white\",\"linecolor\":\"white\",\"ticks\":\"\",\"title\":{\"standoff\":15},\"zerolinecolor\":\"white\",\"zerolinewidth\":2}}},\"xaxis\":{\"anchor\":\"y\",\"domain\":[0.0,1.0],\"title\":{\"text\":\"0\"}},\"yaxis\":{\"anchor\":\"x\",\"domain\":[0.0,1.0],\"title\":{\"text\":\"1\"}},\"legend\":{\"tracegroupgap\":0},\"margin\":{\"t\":60}},                        {\"responsive\": true}                    ).then(function(){\n",
              "                            \n",
              "var gd = document.getElementById('270fe8cf-ec54-468a-8897-4d129018a532');\n",
              "var x = new MutationObserver(function (mutations, observer) {{\n",
              "        var display = window.getComputedStyle(gd).display;\n",
              "        if (!display || display === 'none') {{\n",
              "            console.log([gd, 'removed!']);\n",
              "            Plotly.purge(gd);\n",
              "            observer.disconnect();\n",
              "        }}\n",
              "}});\n",
              "\n",
              "// Listen for the removal of the full notebook cells\n",
              "var notebookContainer = gd.closest('#notebook-container');\n",
              "if (notebookContainer) {{\n",
              "    x.observe(notebookContainer, {childList: true});\n",
              "}}\n",
              "\n",
              "// Listen for the clearing of the current output cell\n",
              "var outputEl = gd.closest('.output');\n",
              "if (outputEl) {{\n",
              "    x.observe(outputEl, {childList: true});\n",
              "}}\n",
              "\n",
              "                        })                };                            </script>        </div>\n",
              "</body>\n",
              "</html>"
            ]
          },
          "metadata": {}
        }
      ]
    },
    {
      "cell_type": "code",
      "source": [
        "# Reset stored activations\n",
        "get_activation('word_embedding')\n",
        "\n",
        "example_words = bag_of_words_df['label'].unique()\n",
        "example_words_ohe = torch.tensor(cv.transform(example_words).toarray()).to(torch.float)\n",
        "example_dataset = TensorDataset(example_words_ohe)\n",
        "example_dataloader = DataLoader(example_dataset, batch_size=1)\n",
        "\n",
        "for batch_idx, (example, ) in enumerate(example_dataloader):\n",
        "    output = model(example)"
      ],
      "metadata": {
        "id": "XRqqso4p8o7Y"
      },
      "execution_count": null,
      "outputs": []
    },
    {
      "cell_type": "code",
      "source": [
        "# Show the embeddings of the first 500 words\n",
        "embeddings = activation['word_embedding'][:500]\n",
        "\n",
        "fig = px.scatter(\n",
        "    np.array(embeddings).reshape(len(embeddings), 2), x=0, y=1,\n",
        "    text=example_words[:500],\n",
        ")\n",
        "fig.update_traces(marker_size=8)\n",
        "fig.show()"
      ],
      "metadata": {
        "colab": {
          "base_uri": "https://localhost:8080/",
          "height": 542
        },
        "id": "kaXyx-3G8pYg",
        "outputId": "44f4e398-ab43-405d-e744-1bc7eb937a7a"
      },
      "execution_count": null,
      "outputs": [
        {
          "output_type": "display_data",
          "data": {
            "text/html": [
              "<html>\n",
              "<head><meta charset=\"utf-8\" /></head>\n",
              "<body>\n",
              "    <div>            <script src=\"https://cdnjs.cloudflare.com/ajax/libs/mathjax/2.7.5/MathJax.js?config=TeX-AMS-MML_SVG\"></script><script type=\"text/javascript\">if (window.MathJax) {MathJax.Hub.Config({SVG: {font: \"STIX-Web\"}});}</script>                <script type=\"text/javascript\">window.PlotlyConfig = {MathJaxConfig: 'local'};</script>\n",
              "        <script src=\"https://cdn.plot.ly/plotly-2.8.3.min.js\"></script>                <div id=\"fdea2db0-f72d-48cf-9c1e-bbb978b36b07\" class=\"plotly-graph-div\" style=\"height:525px; width:100%;\"></div>            <script type=\"text/javascript\">                                    window.PLOTLYENV=window.PLOTLYENV || {};                                    if (document.getElementById(\"fdea2db0-f72d-48cf-9c1e-bbb978b36b07\")) {                    Plotly.newPlot(                        \"fdea2db0-f72d-48cf-9c1e-bbb978b36b07\",                        [{\"hovertemplate\":\"0=%{x}<br>1=%{y}<br>text=%{text}<extra></extra>\",\"legendgroup\":\"\",\"marker\":{\"color\":\"#636efa\",\"symbol\":\"circle\",\"size\":8},\"mode\":\"markers+text\",\"name\":\"\",\"orientation\":\"v\",\"showlegend\":false,\"text\":[\"who\",\"lived\",\"mr\",\"mrs\",\"dursley\",\"number\",\"four\",\"privet\",\"drive\",\"proud\",\"say\",\"perfectly\",\"normal\",\"thank\",\"much\",\"they\",\"last\",\"people\",\"\\u2019\",\"expect\",\"involved\",\"anything\",\"strange\",\"mysterious\",\"hold\",\"nonsense\",\"director\",\"firm\",\"called\",\"grunnings\",\"made\",\"drills\",\"he\",\"big\",\"beefy\",\"man\",\"hardly\",\"neck\",\"although\",\"large\",\"mustache\",\"thin\",\"blonde\",\"nearly\",\"twice\",\"usual\",\"amount\",\"came\",\"useful\",\"spent\",\"time\",\"craning\",\"garden\",\"fences\",\"spying\",\"neighbors\",\"the\",\"small\",\"son\",\"dudley\",\"opinion\",\"finer\",\"boy\",\"anywhere\",\"dursleys\",\"everything\",\"wanted\",\"also\",\"secret\",\"greatest\",\"fear\",\"somebody\",\"would\",\"discover\",\"think\",\"could\",\"bear\",\"anyone\",\"found\",\"potters\",\"potter\",\"sister\",\"met\",\"several\",\"years\",\"fact\",\"pretended\",\"goodfornothing\",\"husband\",\"undursleyish\",\"possible\",\"shuddered\",\"arrived\",\"street\",\"knew\",\"never\",\"even\",\"seen\",\"this\",\"another\",\"good\",\"reason\",\"keeping\",\"away\",\"want\",\"mixing\",\"child\",\"like\",\"when\",\"woke\",\"dull\",\"gray\",\"tuesday\",\"story\",\"starts\",\"nothing\",\"cloudy\",\"sky\",\"outside\",\"suggest\",\"things\",\"soon\",\"happening\",\"country\",\"hummed\",\"picked\",\"boring\",\"tie\",\"work\",\"gossiped\",\"happily\",\"wrestled\",\"screaming\",\"high\",\"chair\",\"none\",\"noticed\",\"tawny\",\"owl\",\"flutter\",\"past\",\"window\",\"at\",\"half\",\"eight\",\"briefcase\",\"pecked\",\"cheek\",\"tried\",\"kiss\",\"goodbye\",\"missed\",\"tantrum\",\"throwing\",\"cereal\",\"walls\",\"\\u201c\",\"little\",\"tyke\",\"\\u201d\",\"chortled\",\"left\",\"house\",\"got\",\"car\",\"backed\",\"it\",\"corner\",\"first\",\"sign\",\"something\",\"peculiar\",\"\\u2014\",\"cat\",\"reading\",\"map\",\"for\",\"second\",\"realize\",\"jerked\",\"head\",\"around\",\"look\",\"there\",\"tabby\",\"standing\",\"sight\",\"what\",\"thinking\",\"must\",\"trick\",\"light\",\"blinked\",\"stared\",\"back\",\"as\",\"drove\",\"road\",\"watched\",\"mirror\",\"said\",\"looking\",\"cats\",\"read\",\"maps\",\"signs\",\"gave\",\"shake\",\"put\",\"mind\",\"toward\",\"town\",\"thought\",\"except\",\"order\",\"hoping\",\"get\",\"day\",\"but\",\"edge\",\"driven\",\"else\",\"sat\",\"morning\",\"traffic\",\"jam\",\"help\",\"noticing\",\"seemed\",\"lot\",\"strangely\",\"dressed\",\"cloaks\",\"funny\",\"clothes\",\"getups\",\"saw\",\"young\",\"supposed\",\"stupid\",\"new\",\"fashion\",\"drummed\",\"fingers\",\"steering\",\"wheel\",\"eyes\",\"fell\",\"huddle\",\"weirdos\",\"quite\",\"close\",\"whispering\",\"excitedly\",\"together\",\"enraged\",\"see\",\"couple\",\"older\",\"wearing\",\"emeraldgreen\",\"cloak\",\"nerve\",\"struck\",\"probably\",\"silly\",\"stunt\",\"obviously\",\"collecting\",\"yes\",\"moved\",\"minutes\",\"later\",\"parking\",\"always\",\"office\",\"ninth\",\"floor\",\"if\",\"might\",\"harder\",\"concentrate\",\"owls\",\"swooping\",\"broad\",\"daylight\",\"though\",\"pointed\",\"gazed\",\"openmouthed\",\"sped\",\"overhead\",\"most\",\"nighttime\",\"however\",\"owlfree\",\"yelled\",\"five\",\"different\",\"important\",\"telephone\",\"calls\",\"shouted\",\"bit\",\"mood\",\"lunchtime\",\"stretch\",\"legs\",\"walk\",\"across\",\"buy\",\"bun\",\"bakery\",\"forgotten\",\"passed\",\"group\",\"next\",\"baker\",\"eyed\",\"angrily\",\"know\",\"uneasy\",\"bunch\",\"single\",\"tin\",\"way\",\"clutching\",\"doughnut\",\"bag\",\"caught\",\"words\",\"saying\",\"right\",\"i\",\"heard\",\"harry\",\"stopped\",\"dead\",\"flooded\",\"looked\",\"whisperers\",\"better\",\"dashed\",\"hurried\",\"snapped\",\"secretary\",\"disturb\",\"seized\",\"almost\",\"finished\",\"dialing\",\"home\",\"changed\",\"receiver\",\"stroked\",\"unusual\",\"name\",\"sure\",\"lots\",\"come\",\"nephew\",\"harvey\",\"or\",\"harold\",\"point\",\"worrying\",\"upset\",\"mention\",\"blame\",\"afternoon\",\"building\",\"clock\",\"still\",\"worried\",\"walked\",\"straight\",\"someone\",\"door\",\"sorry\",\"grunted\",\"tiny\",\"old\",\"stumbled\",\"seconds\",\"realized\",\"violet\",\"seem\",\"knocked\",\"ground\",\"on\",\"contrary\",\"face\",\"split\",\"wide\",\"smile\",\"squeaky\",\"voice\",\"passersby\",\"stare\",\"don\",\"dear\",\"sir\",\"today\",\"rejoice\",\"you\",\"knowwho\",\"gone\",\"muggles\",\"celebrating\",\"happy\",\"and\",\"hugged\",\"middle\",\"stood\",\"rooted\",\"spot\",\"complete\",\"stranger\",\"muggle\",\"whatever\",\"rattled\",\"set\",\"imagining\",\"hoped\",\"approve\",\"imagination\",\"pulled\",\"driveway\",\"thing\",\"improve\",\"spotted\",\"sitting\",\"wall\",\"one\",\"markings\",\"shoo\",\"loudly\",\"move\",\"stern\",\"was\",\"behavior\",\"wondered\",\"trying\",\"pull\",\"let\",\"determined\",\"wife\",\"nice\",\"she\",\"told\",\"dinner\",\"problems\",\"daughter\",\"learned\",\"word\",\"won\",\"act\",\"normally\",\"bed\",\"went\",\"living\",\"room\",\"catch\",\"report\",\"evening\",\"news\",\"finally\",\"birdwatchers\",\"everywhere\",\"reported\",\"nation\",\"behaving\",\"unusually\",\"hunt\",\"night\",\"ever\",\"hundreds\",\"sightings\",\"birds\",\"flying\",\"every\",\"direction\",\"since\",\"sunrise\",\"experts\",\"unable\",\"explain\",\"suddenly\",\"sleeping\",\"pattern\",\"newscaster\",\"allowed\",\"grin\",\"jim\",\"mcguffin\",\"weather\",\"going\",\"showers\",\"tonight\",\"well\"],\"x\":[-0.013319222256541252,-0.005211107432842255,0.0015255105681717396,-0.002651088172569871,-0.015259729698300362,0.0023107551969587803,-0.0063021425157785416,-0.012241359800100327,-0.0019212220795452595,0.007288047578185797,0.0028639412485063076,-0.012046899646520615,0.00019358284771442413,0.002666420303285122,-0.0120879290625453,0.006265515927225351,-0.011170873418450356,-0.009363915771245956,-0.00465686758980155,-0.0009226042311638594,0.001573312096297741,-0.012319447472691536,-0.002955726347863674,-0.010405698791146278,-0.0005915844812989235,0.0008329185657203197,0.0005174907855689526,0.002375667914748192,0.004575144033879042,0.005145716946572065,-0.0008129903580993414,-0.012242496013641357,0.001265170518308878,-0.012637946754693985,-0.017507432028651237,-0.005471921060234308,-0.009529661387205124,0.006579774897545576,-0.00043887877836823463,-0.014617092907428741,-0.017515989020466805,0.001370096579194069,0.00017783232033252716,-0.015302935615181923,-0.013074066489934921,-0.006915809586644173,-0.0030090664513409138,-0.009344561025500298,0.0030200183391571045,0.0007362975738942623,-0.010074078105390072,0.008077941834926605,-0.007590399123728275,0.0005773920565843582,-0.00533820828422904,0.007580373901873827,0.0006500198505818844,-0.013224078342318535,0.007580371107906103,-0.00488476175814867,-0.0154657494276762,0.004540049936622381,-0.0005604824982583523,-0.008943092077970505,-0.004070589784532785,-0.006573512218892574,0.006390937138348818,0.004334315191954374,-0.009552018716931343,0.007644571829587221,-0.0011536965612322092,-0.010198060423135757,-0.011775515973567963,-0.004610198549926281,0.007950378581881523,0.005232588853687048,0.0002452163025736809,-0.017038535326719284,-0.015057582408189774,-0.009235416539013386,0.004489411134272814,-0.01309259794652462,-0.0025003175251185894,-0.01672363467514515,-7.733004167675972e-05,-0.014011429622769356,-0.015389228239655495,-0.003898688592016697,-0.010583281517028809,-0.00703096529468894,-0.01751641370356083,-0.013851715251803398,-0.009705957025289536,-0.004767443984746933,0.004610390868037939,0.0034249224700033665,-0.004039441701024771,-0.00021786289289593697,0.006029821466654539,-0.00618492066860199,-0.015356156975030899,-0.005133516155183315,0.007029413711279631,0.0035640005953609943,-0.014907699078321457,-0.0008906791917979717,-0.017331639304757118,-0.013127919286489487,-0.015051165595650673,-0.004326629918068647,-0.006208558566868305,-0.007615109905600548,-0.005686040967702866,0.004951799754053354,-0.01393982581794262,-0.010788989253342152,-0.00045531243085861206,-0.004443780984729528,-0.013124048709869385,-0.011679918505251408,0.00295224878937006,-0.008126429282128811,-0.01410178653895855,-0.01671404205262661,0.0022769724018871784,-0.006346032023429871,-0.004769132472574711,-0.013840606436133385,0.007419226225465536,-0.0069986870512366295,-0.010096869431436062,-0.011628618463873863,-0.008558179251849651,0.0005602361634373665,-0.01289786770939827,0.0021988432854413986,-0.004223085939884186,-0.0059486390091478825,-0.010589046403765678,-0.006360077299177647,-0.017479240894317627,0.007526956032961607,-0.014123104512691498,-0.011787589639425278,0.004095969256013632,0.008202750235795975,-0.007071392610669136,0.0012829918414354324,-0.008451027795672417,-0.0002376483753323555,0.005322088021785021,-0.01699097268283367,0.007016131188720465,0.004392530303448439,-0.011300234124064445,-0.00598373357206583,-0.00465686758980155,0.0005793278105556965,-0.00190611626021564,-0.00465686758980155,-0.016145292669534683,-0.0034766332246363163,-0.013841064646840096,-0.005992102436721325,-0.016529100015759468,-0.01698608510196209,-0.01705227978527546,-0.010008411481976509,-0.007655315101146698,0.006152404937893152,-0.004412215203046799,0.004923991393297911,-0.00465686758980155,0.0021803961135447025,0.0012823287397623062,-0.0057740588672459126,-0.012488722801208496,0.0061028203926980495,-0.008175691589713097,-0.0066625638864934444,0.004386821296066046,-0.014880245551466942,-0.013546142727136612,-0.007643206976354122,-0.016297267749905586,-0.00024224910885095596,-0.01229862216860056,-0.016156956553459167,0.0033570709638297558,0.00834215059876442,0.006820580456405878,0.003522616345435381,-0.007524285465478897,0.006344958674162626,-0.004359327256679535,0.008173951879143715,0.0027898908592760563,0.007912762463092804,-0.007802250329405069,-0.004334190860390663,-0.0015977355651557446,-0.005632105749100447,0.003712576348334551,-0.016227662563323975,0.005518715362995863,0.0029805460944771767,-0.010509136132895947,0.0003357972018420696,-0.009742372669279575,-0.008804511278867722,-0.005703961476683617,-0.0026882013771682978,0.00811329297721386,-0.013658525422215462,0.008116105571389198,-0.011175627820193768,-0.015699725598096848,0.00349826505407691,0.0042792935855686665,-0.01368204690515995,0.0068349032662808895,-0.0006709680892527103,0.0047731040976941586,-0.013777690008282661,0.006193624343723059,-0.00741156842559576,0.004246941301971674,-0.005249486304819584,0.008095040917396545,0.006395041476935148,-0.0031793746165931225,-0.013966603204607964,0.0051902723498642445,-0.0038517341017723083,0.005171161610633135,-0.00859232246875763,-0.016869578510522842,-0.007529879920184612,0.0038028168492019176,0.006673079449683428,-0.015749162063002586,0.005444701295346022,0.0016633751802146435,-0.01311129704117775,-0.0015758650843054056,-0.00902735535055399,-0.012209580279886723,0.007940694689750671,-0.012338109314441681,-0.005471701268106699,-0.00933792069554329,-0.0073295957408845425,-0.000760227907449007,0.004755790811032057,-0.013576189056038857,-0.00423629442229867,-0.008213157765567303,-0.003977203741669655,-0.006641223095357418,0.0030742003582417965,-0.00097077083773911,0.006909425836056471,0.003492907155305147,0.0018799896351993084,-0.0174618698656559,0.0020949062891304493,-0.01282881386578083,-0.005335567519068718,0.008080316707491875,-0.002602894324809313,-0.006045677233487368,-0.01361357606947422,-0.016232583671808243,-0.006063573062419891,0.005141350906342268,-0.014727834612131119,-0.016647299751639366,0.007147697266191244,-0.014202427119016647,0.008234048262238503,-0.004772090818732977,-0.016430659219622612,0.0030756299383938313,-0.002690655179321766,-0.0010074786841869354,-0.005058662965893745,0.003250011708587408,-0.012357247993350029,0.006778548005968332,0.0054150852374732494,0.0068001882173120975,-0.016614919528365135,-0.013934364542365074,-0.0037064282223582268,-0.0007317983545362949,-0.008412832394242287,-0.007143381051719189,0.005549802910536528,0.004748451989144087,-0.004688609391450882,-0.00023296335712075233,-0.012303795665502548,-0.002806822769343853,-0.003309478284791112,-0.0029156580567359924,-0.009759095497429371,0.004910201299935579,-0.011201446875929832,-0.016912473365664482,0.006860292050987482,0.00597813306376338,-0.0155717171728611,-0.012093916535377502,0.002284071873873472,-0.01410047896206379,-0.0015009527560323477,-0.00589441042393446,0.006808687467128038,0.0008566142059862614,-0.001810212153941393,-0.002866988070309162,0.00745093310251832,-0.01112356036901474,-0.011450912803411484,-0.002646750072017312,-0.013587024062871933,0.004877172876149416,-0.003358971094712615,0.0029084021225571632,-0.010139156132936478,-0.013392558321356773,-0.011133488267660141,-0.0009703938849270344,-0.00465686758980155,0.0073814974166452885,-0.013765845447778702,0.0017520547844469547,0.00028529390692710876,-0.01295328326523304,-0.013301525264978409,-0.009591085836291313,-0.011453745886683464,-0.0024237295147031546,0.005865782033652067,-0.012226630002260208,-0.008877648040652275,-0.0003691352903842926,-0.007603354752063751,-0.007084303069859743,-0.015111537650227547,-0.012762153521180153,-0.014805437996983528,0.002350428607314825,0.0004023611545562744,-0.0009635875467211008,-0.006986257620155811,-0.01083738636225462,0.007458484265953302,-0.009338745847344398,0.007940215989947319,-0.008896170184016228,0.005226453300565481,0.001703998539596796,-0.015353217720985413,-0.0012674499303102493,0.007010988425463438,-0.003558475524187088,-0.006702093407511711,0.002522578462958336,-0.004911529831588268,-0.008844323456287384,-0.002056909492239356,-0.01760539785027504,0.0075483485125005245,-0.012794943526387215,-0.0007842995692044497,-0.006093052681535482,-0.0023820409551262856,0.004684396553784609,-0.014103244990110397,-0.014470037072896957,-0.004131857771426439,0.004461299162358046,-0.008628800511360168,-0.00018052291125059128,-0.007080561481416225,-0.016756460070610046,6.775185465812683e-05,-0.008848775178194046,-0.016458114609122276,-0.0074538663029670715,0.0073815337382256985,-0.0037374510429799557,-0.006248000077903271,-0.008951382711529732,-0.002315816003829241,0.0001465408131480217,-0.0009052737150341272,-0.006697840057313442,0.007702023256570101,-0.009489892981946468,-0.010972214862704277,-0.009315498173236847,0.0018020491115748882,0.007970396429300308,-0.002251023193821311,-0.013349026441574097,-0.012816693633794785,-0.014722893014550209,0.008418954908847809,-0.01191786490380764,-0.0032463506795465946,-0.011415891349315643,-0.0001615653745830059,0.005619946401566267,-0.009031911380589008,0.004151353146880865,-0.01646336540579796,-0.008941913023591042,-0.012039011344313622,-0.006256871856749058,0.0045622712932527065,0.0009967372752726078,0.005080380942672491,-0.010635118931531906,0.000702977180480957,-0.011277969926595688,-0.0018134152051061392,0.007318468298763037,-0.011259994469583035,-0.0028872936964035034,0.00455582095310092,-0.007070512510836124,0.006036001723259687,-0.010648837313055992,-0.0019336887635290623,-0.017172187566757202,0.0020170751959085464,-0.00493285246193409,-0.002534635830670595,0.007127038668841124,-0.003153543919324875,0.007111240644007921,-0.010095104575157166,-0.0016048494726419449,-0.004894919227808714,-0.012564446777105331,-0.006119154393672943,0.00230269692838192,-0.006723320111632347,-0.003348796395584941,0.006591848563402891,0.003546659369021654,-0.016449255868792534,-0.006168742198497057,-0.011316832154989243,-0.006841766647994518,-0.006819169968366623,-0.0092844907194376,-0.01589428260922432,-0.015199940651655197,-0.00691493134945631,-0.009234361350536346,-0.015718936920166016,-0.0021924639586359262,0.0042933751828968525,0.0001504821702837944,-0.004385263659060001,-0.004502991680055857,0.004157670307904482,-0.0167956855148077,-0.009494604542851448,0.00044921133667230606,-0.01665007695555687,-0.003289558459073305,-0.006570545025169849,-0.008539121598005295,0.0047156629152596,-0.01109900139272213,-0.0032123392447829247,0.0060445102863013744,-0.0003349184989929199,-0.012577807530760765,0.005551363807171583,-0.003402909729629755,-0.0051781306974589825,-0.01732776127755642,-0.017695030197501183,-0.013701016083359718,-0.0031285337172448635,-0.017445411533117294,-0.008627723902463913,-0.0009207562543451786,-0.008206957951188087,0.00521910609677434,-0.00466898875311017,0.003965907264500856,0.005932543892413378,-0.01174843218177557,0.002230196725577116],\"xaxis\":\"x\",\"y\":[0.009700190275907516,0.00025952234864234924,0.004177832044661045,-0.0029396582394838333,-0.0034526237286627293,0.005366708151996136,0.013558819890022278,0.004720928147435188,-0.007456512656062841,0.011199621483683586,0.01049043983221054,0.0009038272546604276,0.0005738271865993738,0.0029974766075611115,-0.010499926283955574,-0.006355490069836378,0.011014850810170174,0.0012119542807340622,0.002102471422404051,0.010143646970391273,-0.0017090064939111471,0.008477915078401566,0.0040184566751122475,0.007663828786462545,-0.010893106460571289,0.004054947290569544,0.005661489441990852,-0.0023229867219924927,-0.009760860353708267,0.014567451551556587,0.0035321777686476707,0.011928081512451172,0.008251380175352097,0.008998826146125793,0.0018794124480336905,0.00843520276248455,0.01126851700246334,0.006210689898580313,-0.005886757280677557,-0.0064039831049740314,-0.010614866390824318,0.008391705341637135,-0.0018570455722510815,0.001871044747531414,0.010985523462295532,0.00568746542558074,-0.006249140482395887,0.004082781262695789,-0.002453476656228304,-0.009915266185998917,0.0029954719357192516,0.000275719678029418,-0.00996127538383007,0.01346537284553051,-0.005335957743227482,0.013273404911160469,-0.0029687960632145405,-0.010759275406599045,-0.009295674040913582,0.011953158304095268,-0.010905368253588676,0.006394919008016586,0.002742912620306015,0.009457135573029518,0.014681225642561913,0.004419951234012842,0.009483007714152336,-0.006316629704087973,-0.0025166794657707214,0.0016568002756685019,0.0029358442407101393,0.0002985879546031356,0.0006886086193844676,-0.003821839578449726,0.0025884623173624277,0.008854066953063011,0.013009855523705482,0.007629213854670525,0.01132645271718502,0.008028033189475536,-0.009524356573820114,-0.0024607297964394093,0.007127969991415739,0.009470364078879356,-0.0013637489173561335,-0.00459736492484808,0.00775554683059454,-0.007313490379601717,0.004021672531962395,-0.008316770195960999,0.012667438015341759,-0.007986888289451599,-0.0021247542463243008,0.008170772343873978,-0.002136409282684326,0.011649258434772491,0.014037033542990685,0.01323496550321579,0.014910833910107613,0.012596894055604935,0.005814393982291222,0.0022734941449016333,-0.010679792612791061,0.010172948241233826,-0.0026587294414639473,0.007732577621936798,0.013957647606730461,0.01054283045232296,-0.003482629545032978,0.014998739585280418,0.015131542459130287,-0.00012380117550492287,-0.0034455559216439724,0.003862763289362192,-0.0019313003867864609,-0.001062191789969802,0.013051096349954605,0.0083757434040308,-0.0017872387543320656,-0.008992334827780724,-0.009087752550840378,-0.008736219257116318,-0.006245794240385294,0.00960729643702507,-0.010580012574791908,0.008989302441477776,0.01301923580467701,0.005172617733478546,0.014661604538559914,-0.010977592319250107,0.009847351349890232,-0.009257357567548752,-0.010447705164551735,0.010155195370316505,0.015004130080342293,0.0037231682799756527,-0.009623995050787926,0.008900675922632217,0.014762142673134804,-0.008505426347255707,-3.186287358403206e-06,0.008307227864861488,0.005093921907246113,-0.006533223669975996,-0.0003634663298726082,-0.008829796686768532,-0.009196201339364052,-0.010828757658600807,0.0008091406198218465,-0.0008593460079282522,0.005516264587640762,0.0027835972141474485,0.0020127748139202595,-0.008380914106965065,0.013257283717393875,0.0004568425938487053,0.002102471422404051,0.0091583002358675,0.004497296176850796,0.002102471422404051,0.011314839124679565,0.013729564845561981,-0.0001725556794553995,-0.008720727637410164,0.008364953100681305,0.0024182996712625027,-0.00406824192032218,0.014549970626831055,0.013285893946886063,-0.0002383040264248848,-0.009453745558857918,0.0003691719612106681,0.002102471422404051,-0.0041009108535945415,0.002794918604195118,0.012868253514170647,-0.005277380347251892,0.00992531143128872,-0.009504422545433044,0.014741983264684677,0.009592646732926369,-0.008456870913505554,0.004939815029501915,-0.0024157133884727955,-0.007587173487991095,0.0018785719294101,-0.0032373396679759026,0.009625531733036041,-0.003579807933419943,0.013891670852899551,-0.009945090860128403,-0.0012439643032848835,0.009568780660629272,-0.002951459027826786,-0.0009536060970276594,0.0017752826679497957,0.008107258006930351,0.01488562673330307,-0.007875589653849602,0.013079686090350151,0.00977177731692791,-0.004444445017725229,-0.008359313011169434,0.008752228692173958,0.010388122871518135,0.014376958832144737,-0.007052169647067785,0.005904363468289375,0.013653179630637169,-0.0047153569757938385,0.0035090765450149775,0.009669313207268715,0.014383098110556602,0.008627292700111866,0.015054985880851746,-0.007578460033982992,-0.0017906571738421917,-8.903001435101032e-05,-0.003664005547761917,-0.002299997955560684,0.0015050064539536834,0.005594799295067787,0.0038884154055267572,0.014064118266105652,0.002583499299362302,0.005414881743490696,-0.0036038621328771114,0.00484384736046195,0.008878450840711594,0.0070842597633600235,0.01087714359164238,-0.0034727039746940136,0.011392859742045403,-0.0033465237356722355,0.010866880416870117,0.002907710149884224,0.010008767247200012,-0.01069960929453373,-0.010204778984189034,-0.010844115167856216,0.0017732956912368536,-0.010519178584218025,0.012488553300499916,-0.0025286651216447353,0.0021529444493353367,-0.00942804291844368,-0.004502424970269203,0.012246990576386452,-0.008258434012532234,-0.004598740953952074,0.008226890116930008,0.006297151558101177,-0.004144882783293724,-0.009851792827248573,-0.009411994367837906,0.0034519201144576073,0.01184137538075447,0.0015291452873498201,-0.00037406524643301964,-0.0001125819981098175,-0.010761748999357224,0.002490466460585594,-0.005587616004049778,-0.004233872052282095,0.010260572656989098,-0.008359955623745918,0.003605108242481947,-0.008054181933403015,0.01420287974178791,0.00907149352133274,-0.0009278918150812387,0.012511160224676132,-0.0016215937212109566,0.005144759081304073,-0.005237762350589037,0.00564350513741374,-0.010451871901750565,-0.00032851542346179485,0.008819561451673508,-0.004444066435098648,-0.010710960254073143,-0.002543502952903509,-0.000517137348651886,-0.0028845560736954212,-0.010754741728305817,0.00433009210973978,0.004150185734033585,-0.008157474920153618,0.008645150810480118,-0.007011486683040857,0.009347510524094105,-0.004559004679322243,0.010577686131000519,0.014410536736249924,0.0026248330250382423,0.009157732129096985,0.010554416105151176,0.010927168652415276,-0.008363915607333183,-0.007242665160447359,-0.007666536141186953,0.008116388693451881,-0.009429311379790306,0.005149408243596554,-0.008317990228533745,-0.006256979424506426,0.004265688359737396,0.0008715250296518207,-0.004414720460772514,-0.007812026422470808,-0.00396427558735013,-0.001045829150825739,0.0013748555211350322,-0.0017848331481218338,-0.008614890277385712,-0.0015604689251631498,0.010763276368379593,0.007605406455695629,0.009064503014087677,-0.002151215448975563,0.0024193183053284883,0.00455576041713357,-0.0019540819339454174,0.008507922291755676,0.01076018251478672,-0.009479790925979614,0.006063112057745457,0.008943704888224602,-0.008306602016091347,0.008964903652668,-0.004826802294701338,-0.010064328089356422,-0.005252273753285408,0.002102471422404051,-0.0030727344565093517,-0.0032257442362606525,0.01475360058248043,0.0028254338540136814,-0.008161945268511772,0.004378410056233406,0.008927393704652786,-0.005398278124630451,0.008529765531420708,0.0108090341091156,-0.002262528520077467,0.00886051170527935,-0.0051033636555075645,-0.008424701169133186,-0.01053004153072834,0.010590102523565292,-0.0066185020841658115,0.010845821350812912,0.014498148113489151,-0.010117338970303535,0.00040216732304543257,0.003922769799828529,0.012141292914748192,0.0027844428550451994,0.008669140748679638,0.010073799639940262,0.014283789321780205,0.0007785642519593239,0.008866436779499054,0.004278331063687801,0.006924650631844997,-0.006845892872661352,-0.00856788270175457,-0.0035880999639630318,0.014700235798954964,-0.0026755621656775475,0.008874939754605293,-0.0013912010472267866,-0.00897681713104248,0.013477221131324768,0.014161854982376099,0.011955752968788147,-0.0022753234952688217,0.0009666889673098922,0.010490808635950089,0.011450756341218948,-0.008916886523365974,-0.007026378531008959,0.006627385504543781,-0.010541936382651329,0.012695567682385445,0.010571654886007309,0.005213228520005941,0.003665769239887595,0.011668317019939423,0.014443833380937576,-0.009430177509784698,-0.0003726512659341097,-0.000876366626471281,-0.002256639301776886,-0.0015946102794259787,-0.010076824575662613,0.009439418092370033,0.01326330192387104,0.013932371512055397,0.009125289507210255,0.002762187970802188,-0.010496905073523521,-0.007073997985571623,0.004011656157672405,0.0017595607787370682,0.0025379268918186426,0.0015282654203474522,-0.009689884260296822,0.00547605287283659,-0.0018726852722465992,0.006397679448127747,-0.010793589055538177,-0.004941052757203579,-0.004120479803532362,0.0037220576778054237,0.002718959469348192,-0.006521653849631548,-0.00810021162033081,0.010636826977133751,-0.0032766233198344707,0.00026000093203037977,-0.006891448516398668,0.01369878463447094,-0.0007562511600553989,-0.010595230385661125,-0.010123154148459435,0.005423644557595253,0.0012685868423432112,0.0028711282648146152,0.012997271493077278,-0.0002973314840346575,0.0008660542080178857,0.009092453867197037,-0.0032398770563304424,0.01468777097761631,0.002372605260461569,0.004125683102756739,0.014105580747127533,-0.0014120356645435095,-0.007590610068291426,0.0020461101084947586,0.008238555863499641,-0.004907933995127678,0.0041365064680576324,0.010758800432085991,0.00843411311507225,0.0012246596161276102,-0.0011509170290082693,0.013348422944545746,0.009991567581892014,0.005263419821858406,0.002835241612046957,-0.004689544904977083,0.012671379372477531,0.01084006018936634,-0.00024449569173157215,0.00932033360004425,0.0010989733273163438,-0.009894374758005142,-0.003233378753066063,0.009598037227988243,0.013544239103794098,-0.003897608257830143,0.01509803906083107,0.007972153834998608,0.014673015102744102,-0.007528567221015692,0.006158186122775078,0.0021371953189373016,-0.0006670132279396057,-0.004304012283682823,-0.010509230196475983,0.013073276728391647,-0.006528358440846205,0.013115053996443748,0.014094652608036995,0.011030890047550201,-0.0011204201728105545,-0.005062693729996681,0.013864587992429733,0.002346649067476392,0.012360412627458572,-0.0008940091356635094,0.014269454404711723,-0.007321412209421396,0.004997581709176302,-0.006466808263212442,-0.001225870568305254,0.010566245764493942,-0.006650954019278288,0.002483146032318473,0.011620085686445236,-0.004198878072202206,-0.009482547640800476,-0.000712917884811759,-0.002098961267620325,0.008387016132473946,-0.006456580478698015,-0.00637731933966279,0.003911297768354416],\"yaxis\":\"y\",\"type\":\"scatter\"}],                        {\"template\":{\"data\":{\"bar\":[{\"error_x\":{\"color\":\"#2a3f5f\"},\"error_y\":{\"color\":\"#2a3f5f\"},\"marker\":{\"line\":{\"color\":\"#E5ECF6\",\"width\":0.5},\"pattern\":{\"fillmode\":\"overlay\",\"size\":10,\"solidity\":0.2}},\"type\":\"bar\"}],\"barpolar\":[{\"marker\":{\"line\":{\"color\":\"#E5ECF6\",\"width\":0.5},\"pattern\":{\"fillmode\":\"overlay\",\"size\":10,\"solidity\":0.2}},\"type\":\"barpolar\"}],\"carpet\":[{\"aaxis\":{\"endlinecolor\":\"#2a3f5f\",\"gridcolor\":\"white\",\"linecolor\":\"white\",\"minorgridcolor\":\"white\",\"startlinecolor\":\"#2a3f5f\"},\"baxis\":{\"endlinecolor\":\"#2a3f5f\",\"gridcolor\":\"white\",\"linecolor\":\"white\",\"minorgridcolor\":\"white\",\"startlinecolor\":\"#2a3f5f\"},\"type\":\"carpet\"}],\"choropleth\":[{\"colorbar\":{\"outlinewidth\":0,\"ticks\":\"\"},\"type\":\"choropleth\"}],\"contour\":[{\"colorbar\":{\"outlinewidth\":0,\"ticks\":\"\"},\"colorscale\":[[0.0,\"#0d0887\"],[0.1111111111111111,\"#46039f\"],[0.2222222222222222,\"#7201a8\"],[0.3333333333333333,\"#9c179e\"],[0.4444444444444444,\"#bd3786\"],[0.5555555555555556,\"#d8576b\"],[0.6666666666666666,\"#ed7953\"],[0.7777777777777778,\"#fb9f3a\"],[0.8888888888888888,\"#fdca26\"],[1.0,\"#f0f921\"]],\"type\":\"contour\"}],\"contourcarpet\":[{\"colorbar\":{\"outlinewidth\":0,\"ticks\":\"\"},\"type\":\"contourcarpet\"}],\"heatmap\":[{\"colorbar\":{\"outlinewidth\":0,\"ticks\":\"\"},\"colorscale\":[[0.0,\"#0d0887\"],[0.1111111111111111,\"#46039f\"],[0.2222222222222222,\"#7201a8\"],[0.3333333333333333,\"#9c179e\"],[0.4444444444444444,\"#bd3786\"],[0.5555555555555556,\"#d8576b\"],[0.6666666666666666,\"#ed7953\"],[0.7777777777777778,\"#fb9f3a\"],[0.8888888888888888,\"#fdca26\"],[1.0,\"#f0f921\"]],\"type\":\"heatmap\"}],\"heatmapgl\":[{\"colorbar\":{\"outlinewidth\":0,\"ticks\":\"\"},\"colorscale\":[[0.0,\"#0d0887\"],[0.1111111111111111,\"#46039f\"],[0.2222222222222222,\"#7201a8\"],[0.3333333333333333,\"#9c179e\"],[0.4444444444444444,\"#bd3786\"],[0.5555555555555556,\"#d8576b\"],[0.6666666666666666,\"#ed7953\"],[0.7777777777777778,\"#fb9f3a\"],[0.8888888888888888,\"#fdca26\"],[1.0,\"#f0f921\"]],\"type\":\"heatmapgl\"}],\"histogram\":[{\"marker\":{\"pattern\":{\"fillmode\":\"overlay\",\"size\":10,\"solidity\":0.2}},\"type\":\"histogram\"}],\"histogram2d\":[{\"colorbar\":{\"outlinewidth\":0,\"ticks\":\"\"},\"colorscale\":[[0.0,\"#0d0887\"],[0.1111111111111111,\"#46039f\"],[0.2222222222222222,\"#7201a8\"],[0.3333333333333333,\"#9c179e\"],[0.4444444444444444,\"#bd3786\"],[0.5555555555555556,\"#d8576b\"],[0.6666666666666666,\"#ed7953\"],[0.7777777777777778,\"#fb9f3a\"],[0.8888888888888888,\"#fdca26\"],[1.0,\"#f0f921\"]],\"type\":\"histogram2d\"}],\"histogram2dcontour\":[{\"colorbar\":{\"outlinewidth\":0,\"ticks\":\"\"},\"colorscale\":[[0.0,\"#0d0887\"],[0.1111111111111111,\"#46039f\"],[0.2222222222222222,\"#7201a8\"],[0.3333333333333333,\"#9c179e\"],[0.4444444444444444,\"#bd3786\"],[0.5555555555555556,\"#d8576b\"],[0.6666666666666666,\"#ed7953\"],[0.7777777777777778,\"#fb9f3a\"],[0.8888888888888888,\"#fdca26\"],[1.0,\"#f0f921\"]],\"type\":\"histogram2dcontour\"}],\"mesh3d\":[{\"colorbar\":{\"outlinewidth\":0,\"ticks\":\"\"},\"type\":\"mesh3d\"}],\"parcoords\":[{\"line\":{\"colorbar\":{\"outlinewidth\":0,\"ticks\":\"\"}},\"type\":\"parcoords\"}],\"pie\":[{\"automargin\":true,\"type\":\"pie\"}],\"scatter\":[{\"marker\":{\"colorbar\":{\"outlinewidth\":0,\"ticks\":\"\"}},\"type\":\"scatter\"}],\"scatter3d\":[{\"line\":{\"colorbar\":{\"outlinewidth\":0,\"ticks\":\"\"}},\"marker\":{\"colorbar\":{\"outlinewidth\":0,\"ticks\":\"\"}},\"type\":\"scatter3d\"}],\"scattercarpet\":[{\"marker\":{\"colorbar\":{\"outlinewidth\":0,\"ticks\":\"\"}},\"type\":\"scattercarpet\"}],\"scattergeo\":[{\"marker\":{\"colorbar\":{\"outlinewidth\":0,\"ticks\":\"\"}},\"type\":\"scattergeo\"}],\"scattergl\":[{\"marker\":{\"colorbar\":{\"outlinewidth\":0,\"ticks\":\"\"}},\"type\":\"scattergl\"}],\"scattermapbox\":[{\"marker\":{\"colorbar\":{\"outlinewidth\":0,\"ticks\":\"\"}},\"type\":\"scattermapbox\"}],\"scatterpolar\":[{\"marker\":{\"colorbar\":{\"outlinewidth\":0,\"ticks\":\"\"}},\"type\":\"scatterpolar\"}],\"scatterpolargl\":[{\"marker\":{\"colorbar\":{\"outlinewidth\":0,\"ticks\":\"\"}},\"type\":\"scatterpolargl\"}],\"scatterternary\":[{\"marker\":{\"colorbar\":{\"outlinewidth\":0,\"ticks\":\"\"}},\"type\":\"scatterternary\"}],\"surface\":[{\"colorbar\":{\"outlinewidth\":0,\"ticks\":\"\"},\"colorscale\":[[0.0,\"#0d0887\"],[0.1111111111111111,\"#46039f\"],[0.2222222222222222,\"#7201a8\"],[0.3333333333333333,\"#9c179e\"],[0.4444444444444444,\"#bd3786\"],[0.5555555555555556,\"#d8576b\"],[0.6666666666666666,\"#ed7953\"],[0.7777777777777778,\"#fb9f3a\"],[0.8888888888888888,\"#fdca26\"],[1.0,\"#f0f921\"]],\"type\":\"surface\"}],\"table\":[{\"cells\":{\"fill\":{\"color\":\"#EBF0F8\"},\"line\":{\"color\":\"white\"}},\"header\":{\"fill\":{\"color\":\"#C8D4E3\"},\"line\":{\"color\":\"white\"}},\"type\":\"table\"}]},\"layout\":{\"annotationdefaults\":{\"arrowcolor\":\"#2a3f5f\",\"arrowhead\":0,\"arrowwidth\":1},\"autotypenumbers\":\"strict\",\"coloraxis\":{\"colorbar\":{\"outlinewidth\":0,\"ticks\":\"\"}},\"colorscale\":{\"diverging\":[[0,\"#8e0152\"],[0.1,\"#c51b7d\"],[0.2,\"#de77ae\"],[0.3,\"#f1b6da\"],[0.4,\"#fde0ef\"],[0.5,\"#f7f7f7\"],[0.6,\"#e6f5d0\"],[0.7,\"#b8e186\"],[0.8,\"#7fbc41\"],[0.9,\"#4d9221\"],[1,\"#276419\"]],\"sequential\":[[0.0,\"#0d0887\"],[0.1111111111111111,\"#46039f\"],[0.2222222222222222,\"#7201a8\"],[0.3333333333333333,\"#9c179e\"],[0.4444444444444444,\"#bd3786\"],[0.5555555555555556,\"#d8576b\"],[0.6666666666666666,\"#ed7953\"],[0.7777777777777778,\"#fb9f3a\"],[0.8888888888888888,\"#fdca26\"],[1.0,\"#f0f921\"]],\"sequentialminus\":[[0.0,\"#0d0887\"],[0.1111111111111111,\"#46039f\"],[0.2222222222222222,\"#7201a8\"],[0.3333333333333333,\"#9c179e\"],[0.4444444444444444,\"#bd3786\"],[0.5555555555555556,\"#d8576b\"],[0.6666666666666666,\"#ed7953\"],[0.7777777777777778,\"#fb9f3a\"],[0.8888888888888888,\"#fdca26\"],[1.0,\"#f0f921\"]]},\"colorway\":[\"#636efa\",\"#EF553B\",\"#00cc96\",\"#ab63fa\",\"#FFA15A\",\"#19d3f3\",\"#FF6692\",\"#B6E880\",\"#FF97FF\",\"#FECB52\"],\"font\":{\"color\":\"#2a3f5f\"},\"geo\":{\"bgcolor\":\"white\",\"lakecolor\":\"white\",\"landcolor\":\"#E5ECF6\",\"showlakes\":true,\"showland\":true,\"subunitcolor\":\"white\"},\"hoverlabel\":{\"align\":\"left\"},\"hovermode\":\"closest\",\"mapbox\":{\"style\":\"light\"},\"paper_bgcolor\":\"white\",\"plot_bgcolor\":\"#E5ECF6\",\"polar\":{\"angularaxis\":{\"gridcolor\":\"white\",\"linecolor\":\"white\",\"ticks\":\"\"},\"bgcolor\":\"#E5ECF6\",\"radialaxis\":{\"gridcolor\":\"white\",\"linecolor\":\"white\",\"ticks\":\"\"}},\"scene\":{\"xaxis\":{\"backgroundcolor\":\"#E5ECF6\",\"gridcolor\":\"white\",\"gridwidth\":2,\"linecolor\":\"white\",\"showbackground\":true,\"ticks\":\"\",\"zerolinecolor\":\"white\"},\"yaxis\":{\"backgroundcolor\":\"#E5ECF6\",\"gridcolor\":\"white\",\"gridwidth\":2,\"linecolor\":\"white\",\"showbackground\":true,\"ticks\":\"\",\"zerolinecolor\":\"white\"},\"zaxis\":{\"backgroundcolor\":\"#E5ECF6\",\"gridcolor\":\"white\",\"gridwidth\":2,\"linecolor\":\"white\",\"showbackground\":true,\"ticks\":\"\",\"zerolinecolor\":\"white\"}},\"shapedefaults\":{\"line\":{\"color\":\"#2a3f5f\"}},\"ternary\":{\"aaxis\":{\"gridcolor\":\"white\",\"linecolor\":\"white\",\"ticks\":\"\"},\"baxis\":{\"gridcolor\":\"white\",\"linecolor\":\"white\",\"ticks\":\"\"},\"bgcolor\":\"#E5ECF6\",\"caxis\":{\"gridcolor\":\"white\",\"linecolor\":\"white\",\"ticks\":\"\"}},\"title\":{\"x\":0.05},\"xaxis\":{\"automargin\":true,\"gridcolor\":\"white\",\"linecolor\":\"white\",\"ticks\":\"\",\"title\":{\"standoff\":15},\"zerolinecolor\":\"white\",\"zerolinewidth\":2},\"yaxis\":{\"automargin\":true,\"gridcolor\":\"white\",\"linecolor\":\"white\",\"ticks\":\"\",\"title\":{\"standoff\":15},\"zerolinecolor\":\"white\",\"zerolinewidth\":2}}},\"xaxis\":{\"anchor\":\"y\",\"domain\":[0.0,1.0],\"title\":{\"text\":\"0\"}},\"yaxis\":{\"anchor\":\"x\",\"domain\":[0.0,1.0],\"title\":{\"text\":\"1\"}},\"legend\":{\"tracegroupgap\":0},\"margin\":{\"t\":60}},                        {\"responsive\": true}                    ).then(function(){\n",
              "                            \n",
              "var gd = document.getElementById('fdea2db0-f72d-48cf-9c1e-bbb978b36b07');\n",
              "var x = new MutationObserver(function (mutations, observer) {{\n",
              "        var display = window.getComputedStyle(gd).display;\n",
              "        if (!display || display === 'none') {{\n",
              "            console.log([gd, 'removed!']);\n",
              "            Plotly.purge(gd);\n",
              "            observer.disconnect();\n",
              "        }}\n",
              "}});\n",
              "\n",
              "// Listen for the removal of the full notebook cells\n",
              "var notebookContainer = gd.closest('#notebook-container');\n",
              "if (notebookContainer) {{\n",
              "    x.observe(notebookContainer, {childList: true});\n",
              "}}\n",
              "\n",
              "// Listen for the clearing of the current output cell\n",
              "var outputEl = gd.closest('.output');\n",
              "if (outputEl) {{\n",
              "    x.observe(outputEl, {childList: true});\n",
              "}}\n",
              "\n",
              "                        })                };                            </script>        </div>\n",
              "</body>\n",
              "</html>"
            ]
          },
          "metadata": {}
        }
      ]
    },
    {
      "cell_type": "code",
      "source": [
        "def get_nearest(word, k):\n",
        "    word_embedding = None\n",
        "\n",
        "    embeddings = activation['word_embedding']\n",
        "    embeddings = np.array(embeddings).reshape(len(embeddings), 2)\n",
        "\n",
        "    # Find the embedding of the word\n",
        "    for i in range(len(example_words)):\n",
        "        if example_words[i] == word:\n",
        "            word_embedding = embeddings[i]\n",
        "\n",
        "    if word_embedding is None:\n",
        "        print(\"Word embedding not found\")\n",
        "        return\n",
        "\n",
        "    # Compute Euclidean distances\n",
        "    distances = cdist(embeddings, np.array([word_embedding]), metric='euclidean')\n",
        "    distances = distances.reshape(len(distances))\n",
        "\n",
        "    # k+1 since we know the most similar word will be the passed in word which we will skip\n",
        "    closest_idx = np.argsort(distances)[:k+1]\n",
        "\n",
        "    result = []\n",
        "    for i, idx in enumerate(closest_idx):\n",
        "        if i == 0:\n",
        "            # The most similar word will be the passed in word, so we should ignore this\n",
        "            continue\n",
        "\n",
        "        result.append(example_words[idx])\n",
        "\n",
        "    return result\n",
        "\n",
        "nearest = get_nearest('slytherin', 1)\n",
        "print(nearest)"
      ],
      "metadata": {
        "colab": {
          "base_uri": "https://localhost:8080/"
        },
        "id": "lQ2GvzKTF6o2",
        "outputId": "1a1a2981-886a-4355-9f46-f339136d35cb"
      },
      "execution_count": null,
      "outputs": [
        {
          "output_type": "stream",
          "name": "stdout",
          "text": [
            "['pure']\n"
          ]
        }
      ]
    }
  ]
}